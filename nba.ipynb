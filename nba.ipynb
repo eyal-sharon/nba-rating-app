{
 "cells": [
  {
   "cell_type": "code",
   "execution_count": 1,
   "metadata": {},
   "outputs": [],
   "source": [
    "import pandas as pd\n",
    "from flask import Flask, jsonify, render_template, request\n",
    "import json\n",
    "import nba_api\n",
    "from sklearn.linear_model import LinearRegression\n",
    "from sklearn.model_selection import train_test_split\n",
    "from sklearn import preprocessing\n",
    "from sklearn.metrics import r2_score\n",
    "from sklearn.metrics import mean_squared_error\n",
    "import numpy as np\n",
    "# import seaborn as sns\n",
    "import math\n",
    "import pickle"
   ]
  },
  {
   "cell_type": "code",
   "execution_count": 8,
   "metadata": {},
   "outputs": [
    {
     "data": {
      "text/plain": [
       "'[\"A.J. Lawson\", \"AJ Green\", \"AJ Griffin\", \"Aaron Gordon\", \"Aaron Holiday\", \"Aaron Nesmith\", \"Aaron Wiggins\", \"Admiral Schofield\", \"Al Horford\", \"Alec Burks\", \"Aleksej Pokusevski\", \"Alex Caruso\", \"Alex Len\", \"Alize Johnson\", \"Alondes Williams\", \"Alperen Sengun\", \"Amir Coffey\", \"Andre Drummond\", \"Andre Iguodala\", \"Andrew Nembhard\", \"Andrew Wiggins\", \"Anfernee Simons\", \"Anthony Davis\", \"Anthony Edwards\", \"Anthony Gill\", \"Anthony Lamb\", \"Austin Reaves\", \"Austin Rivers\", \"Ayo Dosunmu\", \"Bam Adebayo\", \"Ben Simmons\", \"Bennedict Mathurin\", \"Bismack Biyombo\", \"Blake Griffin\", \"Blake Wesley\", \"Boban Marjanovic\", \"Bobby Portis\", \"Bogdan Bogdanovic\", \"Bojan Bogdanovic\", \"Bol Bol\", \"Bones Hyland\", \"Bradley Beal\", \"Brandon Boston Jr.\", \"Brandon Clarke\", \"Brandon Ingram\", \"Braxton Key\", \"Brook Lopez\", \"Bruce Brown\", \"Bruno Fernando\", \"Bryce McGowens\", \"Bryn Forbes\", \"Buddy Boeheim\", \"Buddy Hield\", \"CJ McCollum\", \"Cade Cunningham\", \"Caleb Houstan\", \"Caleb Martin\", \"Cam Reddish\", \"Cam Thomas\", \"Cameron Johnson\", \"Cameron Payne\", \"Caris LeVert\", \"Carlik Jones\", \"Cedi Osman\", \"Chance Comanche\", \"Charles Bassey\", \"Chima Moneke\", \"Chimezie Metu\", \"Chris Boucher\", \"Chris Duarte\", \"Chris Paul\", \"Chris Silva\", \"Christian Braun\", \"Christian Koloko\", \"Christian Wood\", \"Chuma Okeke\", \"Clint Capela\", \"Coby White\", \"Cody Martin\", \"Cody Zeller\", \"Cole Anthony\", \"Cole Swider\", \"Collin Sexton\", \"Corey Kispert\", \"Cory Joseph\", \"D\\'Angelo Russell\", \"Daishen Nix\", \"Dalano Banton\", \"Dalen Terry\", \"Damian Jones\", \"Damian Lillard\", \"Damion Lee\", \"Daniel Gafford\", \"Daniel Theis\", \"Danny Green\", \"Danuel House Jr.\", \"Dario Saric\", \"Darius Bazley\", \"Darius Days\", \"Darius Garland\", \"David Duke Jr.\", \"David Roddy\", \"Davion Mitchell\", \"Davis Bertans\", \"Davon Reed\", \"Day\\'Ron Sharpe\", \"De\\'Aaron Fox\", \"De\\'Andre Hunter\", \"De\\'Anthony Melton\", \"DeAndre Jordan\", \"DeMar DeRozan\", \"Dean Wade\", \"Deandre Ayton\", \"Dejounte Murray\", \"Delon Wright\", \"Deni Avdija\", \"Dennis Schroder\", \"Dennis Smith Jr.\", \"Deonte Burton\", \"Dereon Seabron\", \"Derrick Jones Jr.\", \"Derrick Rose\", \"Derrick White\", \"Desmond Bane\", \"Devin Booker\", \"Devin Vassell\", \"Devon Dotson\", \"Devonte\\' Graham\", \"Dewayne Dedmon\", \"Dillon Brooks\", \"Domantas Sabonis\", \"Dominick Barlow\", \"Donovan Mitchell\", \"Donovan Williams\", \"Donte DiVincenzo\", \"Dorian Finney-Smith\", \"Doug McDermott\", \"Draymond Green\", \"Drew Eubanks\", \"Dru Smith\", \"Duane Washington Jr.\", \"Duncan Robinson\", \"Dwight Powell\", \"Dylan Windler\", \"Dyson Daniels\", \"Edmond Sumner\", \"Eric Gordon\", \"Eugene Omoruyi\", \"Evan Fournier\", \"Evan Mobley\", \"Facundo Campazzo\", \"Frank Jackson\", \"Frank Kaminsky\", \"Frank Ntilikina\", \"Franz Wagner\", \"Fred VanVleet\", \"Furkan Korkmaz\", \"Gabe Vincent\", \"Gabe York\", \"Garrett Temple\", \"Garrison Mathews\", \"Gary Harris\", \"Gary Payton II\", \"Gary Trent Jr.\", \"George Hill\", \"Georges Niang\", \"Giannis Antetokounmpo\", \"Goga Bitadze\", \"Goran Dragic\", \"Gordon Hayward\", \"Gorgui Dieng\", \"Grant Williams\", \"Grayson Allen\", \"Greg Brown III\", \"Hamidou Diallo\", \"Harrison Barnes\", \"Haywood Highsmith\", \"Herbert Jones\", \"Immanuel Quickley\", \"Isaac Okoro\", \"Isaiah Hartenstein\", \"Isaiah Jackson\", \"Isaiah Joe\", \"Isaiah Livers\", \"Isaiah Mobley\", \"Isaiah Roby\", \"Isaiah Stewart\", \"Isaiah Todd\", \"Ish Smith\", \"Ish Wainright\", \"Ivica Zubac\", \"JD Davison\", \"JT Thor\", \"Ja Morant\", \"JaMychal Green\", \"JaVale McGee\", \"Jabari Smith Jr.\", \"Jabari Walker\", \"Jack White\", \"Jacob Gilyard\", \"Jaden Hardy\", \"Jaden Ivey\", \"Jaden McDaniels\", \"Jaden Springer\", \"Jae Crowder\", \"Jae\\'Sean Tate\", \"Jake LaRavia\", \"Jakob Poeltl\", \"Jalen Brunson\", \"Jalen Duren\", \"Jalen Green\", \"Jalen Johnson\", \"Jalen McDaniels\", \"Jalen Smith\", \"Jalen Suggs\", \"Jalen Williams\", \"Jamal Cain\", \"Jamal Murray\", \"Jamaree Bouyea\", \"James Bouknight\", \"James Harden\", \"James Johnson\", \"James Wiseman\", \"Jared Butler\", \"Jared Rhoden\", \"Jaren Jackson Jr.\", \"Jarred Vanderbilt\", \"Jarrell Brantley\", \"Jarrett Allen\", \"Jarrett Culver\", \"Jason Preston\", \"Javonte Green\", \"Jaxson Hayes\", \"Jay Huff\", \"Jay Scrubb\", \"Jaylen Brown\", \"Jaylen Nowell\", \"Jaylin Williams\", \"Jayson Tatum\", \"Jeenathan Williams\", \"Jeff Dowtin Jr.\", \"Jeff Green\", \"Jerami Grant\", \"Jeremiah Robinson-Earl\", \"Jeremy Sochan\", \"Jericho Sims\", \"Jevon Carter\", \"Jimmy Butler\", \"Jock Landale\", \"Joe Harris\", \"Joe Ingles\", \"Joe Wieskamp\", \"Joel Embiid\", \"John Butler Jr.\", \"John Collins\", \"John Konchar\", \"John Wall\", \"Johnny Davis\", \"Johnny Juzang\", \"Jonas Valanciunas\", \"Jonathan Isaac\", \"Jonathan Kuminga\", \"Jordan Clarkson\", \"Jordan Goodwin\", \"Jordan Hall\", \"Jordan McLaughlin\", \"Jordan Nwora\", \"Jordan Poole\", \"Jordan Schakel\", \"Jose Alvarado\", \"Josh Christopher\", \"Josh Giddey\", \"Josh Green\", \"Josh Hart\", \"Josh Minott\", \"Josh Okogie\", \"Josh Richardson\", \"Joshua Primo\", \"Jrue Holiday\", \"Juan Toscano-Anderson\", \"Juancho Hernangomez\", \"Julian Champagnie\", \"Julius Randle\", \"Justin Champagnie\", \"Justin Holiday\", \"Justin Jackson\", \"Justin Minaya\", \"Justise Winslow\", \"Jusuf Nurkic\", \"KZ Okpala\", \"Kai Jones\", \"Karl-Anthony Towns\", \"Kawhi Leonard\", \"Keegan Murray\", \"Keita Bates-Diop\", \"Keldon Johnson\", \"Kelly Olynyk\", \"Kelly Oubre Jr.\", \"Kemba Walker\", \"Kendall Brown\", \"Kendrick Nunn\", \"Kennedy Chandler\", \"Kenneth Lofton Jr.\", \"Kenrich Williams\", \"Kentavious Caldwell-Pope\", \"Kenyon Martin Jr.\", \"Keon Ellis\", \"Keon Johnson\", \"Kessler Edwards\", \"Kevin Durant\", \"Kevin Huerter\", \"Kevin Knox II\", \"Kevin Love\", \"Kevin Porter Jr.\", \"Kevon Harris\", \"Kevon Looney\", \"Khem Birch\", \"Khris Middleton\", \"Killian Hayes\", \"Kira Lewis Jr.\", \"Klay Thompson\", \"Kobi Simmons\", \"Kris Dunn\", \"Kristaps Porzingis\", \"Kyle Anderson\", \"Kyle Kuzma\", \"Kyle Lowry\", \"Kyrie Irving\", \"LaMelo Ball\", \"Lamar Stevens\", \"Landry Shamet\", \"Larry Nance Jr.\", \"Lauri Markkanen\", \"LeBron James\", \"Leandro Bolmaro\", \"Lester Quinones\", \"Lindell Wigginton\", \"Lindy Waters III\", \"Lonnie Walker IV\", \"Louis King\", \"Luguentz Dort\", \"Luka Doncic\", \"Luka Garza\", \"Luka Samanic\", \"Luke Kennard\", \"Luke Kornet\", \"Mac McClung\", \"Malachi Flynn\", \"Malaki Branham\", \"Malcolm Brogdon\", \"Malcolm Hill\", \"Malik Beasley\", \"Malik Monk\", \"Mamadi Diakite\", \"MarJon Beauchamp\", \"Marcus Morris Sr.\", \"Marcus Smart\", \"Mark Williams\", \"Markelle Fultz\", \"Markieff Morris\", \"Marko Simonovic\", \"Marvin Bagley III\", \"Mason Plumlee\", \"Matisse Thybulle\", \"Matt Ryan\", \"Matthew Dellavedova\", \"Max Christie\", \"Max Strus\", \"Maxi Kleber\", \"McKinley Wright IV\", \"Meyers Leonard\", \"Mfiondu Kabengele\", \"Micah Potter\", \"Michael Carter-Williams\", \"Michael Foster Jr.\", \"Michael Porter Jr.\", \"Mikal Bridges\", \"Mike Conley\", \"Mike Muscala\", \"Miles McBride\", \"Mitchell Robinson\", \"Mo Bamba\", \"Monte Morris\", \"Montrezl Harrell\", \"Moritz Wagner\", \"Moses Brown\", \"Moses Moody\", \"Moussa Diabate\", \"Myles Turner\", \"Naji Marshall\", \"Nassir Little\", \"Nathan Knight\", \"Naz Reid\", \"Neemias Queta\", \"Nerlens Noel\", \"Nic Claxton\", \"Nick Richards\", \"Nickeil Alexander-Walker\", \"Nicolas Batum\", \"Nikola Jokic\", \"Nikola Jovic\", \"Nikola Vucevic\", \"Noah Vonleh\", \"Norman Powell\", \"O.G. Anunoby\", \"Obi Toppin\", \"Ochai Agbaji\", \"Olivier Sarr\", \"Omer Yurtseven\", \"Onyeka Okongwu\", \"Orlando Robinson\", \"Oshae Brissett\", \"Otto Porter Jr.\", \"Ousmane Dieng\", \"P.J. Tucker\", \"P.J. Washington\", \"PJ Dozier\", \"Paolo Banchero\", \"Pascal Siakam\", \"Pat Connaughton\", \"Patrick Baldwin Jr.\", \"Patrick Beverley\", \"Patrick Williams\", \"Patty Mills\", \"Paul George\", \"Paul Reed\", \"Payton Pritchard\", \"Peyton Watson\", \"Precious Achiuwa\", \"Quentin Grimes\", \"Quenton Jackson\", \"R.J. Hampton\", \"RJ Barrett\", \"RaiQuan Gray\", \"Raul Neto\", \"Reggie Bullock\", \"Reggie Jackson\", \"Richaun Holmes\", \"Ricky Rubio\", \"Robert Covington\", \"Robert Williams III\", \"Robin Lopez\", \"Rodney McGruder\", \"Romeo Langford\", \"Ron Harper Jr.\", \"Royce O\\'Neale\", \"Rudy Gay\", \"Rudy Gobert\", \"Rui Hachimura\", \"Russell Westbrook\", \"Ryan Arcidiacono\", \"Ryan Rollins\", \"Saben Lee\", \"Saddiq Bey\", \"Sam Hauser\", \"Sam Merrill\", \"Sandro Mamukelashvili\", \"Santi Aldama\", \"Scottie Barnes\", \"Scotty Pippen Jr.\", \"Serge Ibaka\", \"Seth Curry\", \"Shaedon Sharpe\", \"Shai Gilgeous-Alexander\", \"Shake Milton\", \"Shaquille Harrison\", \"Simone Fontecchio\", \"Skylar Mays\", \"Spencer Dinwiddie\", \"Stanley Johnson\", \"Stanley Umude\", \"Stephen Curry\", \"Sterling Brown\", \"Steven Adams\", \"Svi Mykhailiuk\", \"T.J. McConnell\", \"T.J. Warren\", \"Taj Gibson\", \"Talen Horton-Tucker\", \"Tari Eason\", \"Taurean Prince\", \"Terance Mann\", \"Terence Davis\", \"Terrence Ross\", \"Terry Rozier\", \"Terry Taylor\", \"Thaddeus Young\", \"Thanasis Antetokounmpo\", \"Theo Maledon\", \"Theo Pinson\", \"Thomas Bryant\", \"Tim Hardaway Jr.\", \"Tobias Harris\", \"Tony Bradley\", \"Torrey Craig\", \"Trae Young\", \"Tre Jones\", \"Tre Mann\", \"Trendon Watford\", \"Trent Forrest\", \"Trevelin Queen\", \"Trevor Hudgins\", \"Trevor Keels\", \"Trey Lyles\", \"Trey Murphy III\", \"Troy Brown Jr.\", \"Ty Jerome\", \"TyTy Washington Jr.\", \"Tyler Dorsey\", \"Tyler Herro\", \"Tyrese Haliburton\", \"Tyrese Martin\", \"Tyrese Maxey\", \"Tyus Jones\", \"Udoka Azubuike\", \"Udonis Haslem\", \"Usman Garuba\", \"Vernon Carey Jr.\", \"Victor Oladipo\", \"Vince Williams Jr.\", \"Vit Krejci\", \"Vlatko Cancar\", \"Walker Kessler\", \"Wendell Carter Jr.\", \"Wendell Moore Jr.\", \"Wenyen Gabriel\", \"Wesley Matthews\", \"Will Barton\", \"Willy Hernangomez\", \"Xavier Cooks\", \"Xavier Moon\", \"Xavier Sneed\", \"Xavier Tillman\", \"Yuta Watanabe\", \"Zach Collins\", \"Zach LaVine\", \"Zeke Nnaji\", \"Ziaire Williams\", \"Zion Williamson\"]'"
      ]
     },
     "execution_count": 8,
     "metadata": {},
     "output_type": "execute_result"
    }
   ],
   "source": [
    "def get_players():\n",
    "    df = pd.read_csv(\"2023_nba_player_stats.csv\")\n",
    "    player_names = sorted(df[\"Player\"].tolist())\n",
    "    return json.dumps(player_names)\n",
    "sheet = get_players()"
   ]
  }
 ],
 "metadata": {
  "kernelspec": {
   "display_name": "base",
   "language": "python",
   "name": "python3"
  },
  "language_info": {
   "codemirror_mode": {
    "name": "ipython",
    "version": 3
   },
   "file_extension": ".py",
   "mimetype": "text/x-python",
   "name": "python",
   "nbconvert_exporter": "python",
   "pygments_lexer": "ipython3",
   "version": "3.11.5"
  }
 },
 "nbformat": 4,
 "nbformat_minor": 2
}
